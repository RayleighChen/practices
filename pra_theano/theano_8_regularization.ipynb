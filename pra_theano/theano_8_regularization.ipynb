{
 "cells": [
  {
   "cell_type": "code",
   "execution_count": 171,
   "metadata": {
    "collapsed": false
   },
   "outputs": [],
   "source": [
    "import numpy as np\n",
    "import theano\n",
    "import theano.tensor as T\n",
    "import matplotlib.pyplot as plt \n",
    "from sklearn.datasets import load_boston\n",
    "from __future__ import division\n",
    "\n",
    "%matplotlib inline \n",
    "\n",
    "class Layer(object):\n",
    "    def __init__(self, inputs, in_size, out_size, activation_function=None):\n",
    "        self.W = theano.shared(np.random.normal(0,1,(in_size, out_size)))\n",
    "        self.b = theano.shared(np.zeros(out_size,) + 0.1)\n",
    "        self.wx_plus_b = T.dot(inputs, self.W) + self.b\n",
    "        self.activation_function = activation_function\n",
    "        if activation_function == None:\n",
    "            self.outputs = self.wx_plus_b\n",
    "        else:\n",
    "            self.outputs = self.activation_function(self.wx_plus_b)\n",
    "\n",
    "def minmax_normalization(data):\n",
    "    xs_max = np.max(data, axis=0)\n",
    "    xs_min = np.min(data, axis=0)\n",
    "    xs = (data - xs_min) / (xs_max - xs_min)\n",
    "    return xs\n",
    "\n",
    "#Data\n",
    "np.random.seed(100)\n",
    "x_data = load_boston().data\n",
    "x_data = minmax_normalization(x_data)\n",
    "y_data = load_boston().target[:, np.newaxis]\n",
    "\n",
    "#cross validation, tarain test data\n",
    "x_train, y_train = x_data[:400], y_data[:400]\n",
    "x_test, y_test = x_data[400:], y_data[400:]"
   ]
  },
  {
   "cell_type": "code",
   "execution_count": 172,
   "metadata": {
    "collapsed": false
   },
   "outputs": [],
   "source": [
    "#define\n",
    "x, y = T.dmatrices('x', 'y')\n",
    "\n",
    "l1 = Layer(x, 13, 50, T.tanh)\n",
    "l2 = Layer(l1.outputs, 50, 1, None)\n",
    "\n",
    "#l2 ragulization/ penalize\n",
    "cost = T.mean(T.square(l2.outputs - y)) + 0.1 * ((l1.W ** 2).sum() + (l2.W ** 2).sum()) \n",
    "# cost = T.mean(T.square(l2.outputs - y)) + 0.1 * (abs(l1.W).sum() + abs(l2.W).sum())  # with l1 regularization\n",
    "\n",
    "\n",
    "#gradients\n",
    "gW1, gb1, gW2, gb2 = T.grad(cost, [l1.W, l1.b, l2.W, l2.b])\n",
    "\n",
    "#gradients descent\n",
    "learning_rate = 0.01\n",
    "\n",
    "train = theano.function(\n",
    "    inputs=[x, y],\n",
    "    updates=[(l1.W, l1.W - learning_rate * gW1),\n",
    "             (l1.b, l1.b - learning_rate * gb1),\n",
    "             (l2.W, l2.W - learning_rate * gW2),\n",
    "             (l2.b, l2.b - learning_rate * gb2)])\n",
    "\n",
    "compute_loss = theano.function(inputs=[x, y], outputs=cost)"
   ]
  },
  {
   "cell_type": "code",
   "execution_count": 177,
   "metadata": {
    "collapsed": false
   },
   "outputs": [
    {
     "data": {
      "image/png": "[encoded data removed]",
      "text/plain": [
       "<matplotlib.figure.Figure at 0xada35390>"
      ]
     },
     "metadata": {},
     "output_type": "display_data"
    }
   ],
   "source": [
    "# record cost\n",
    "train_err_list = []\n",
    "test_err_list = []\n",
    "learning_time = []\n",
    "for i in range(1000):\n",
    "    train(x_train, y_train)\n",
    "    if i % 10 == 0:\n",
    "        # record cost\n",
    "        train_err_list.append(compute_cost(x_train, y_train))\n",
    "        test_err_list.append(compute_cost(x_test, y_test))\n",
    "        learning_time.append(i)\n",
    "\n",
    "# plot cost history\n",
    "plt.plot(learning_time, train_err_list, 'r-')\n",
    "plt.plot(learning_time, test_err_list, 'b--')\n",
    "plt.show()"
   ]
  }
 ],
 "metadata": {
  "kernelspec": {
   "display_name": "Python 2",
   "language": "python",
   "name": "python2"
  },
  "language_info": {
   "codemirror_mode": {
    "name": "ipython",
    "version": 2
   },
   "file_extension": ".py",
   "mimetype": "text/x-python",
   "name": "python",
   "nbconvert_exporter": "python",
   "pygments_lexer": "ipython2",
   "version": "2.7.6"
  }
 },
 "nbformat": 4,
 "nbformat_minor": 0
}
