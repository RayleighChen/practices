{
 "cells": [
  {
   "cell_type": "code",
   "execution_count": 2,
   "metadata": {
    "collapsed": true
   },
   "outputs": [],
   "source": [
    "import numpy as np\n",
    "import theano\n",
    "import theano.tensor as T\n",
    "import pickle\n",
    "\n",
    "def compute_accuracy(y_target, y_predict):\n",
    "    correct_prediction = np.equal(y_predict, y_target)\n",
    "    accuracy = np.sum(correct_prediction)/len(correct_prediction)\n",
    "    return accuracy\n",
    "\n",
    "rng = np.random\n",
    "\n",
    "# set random seed\n",
    "np.random.seed(100)\n",
    "\n",
    "N = 400\n",
    "feats = 784\n",
    "\n",
    "# generate a dataset: D = (input_values, target_class)\n",
    "D = (rng.randn(N, feats), rng.randint(size=N, low=0, high=2))\n",
    "\n",
    "# Declare Theano symbolic variables\n",
    "x = T.dmatrix(\"x\")\n",
    "y = T.dvector(\"y\")\n",
    "\n",
    "# initialize the weights and biases\n",
    "w = theano.shared(rng.randn(feats), name=\"w\")\n",
    "b = theano.shared(0., name=\"b\")\n",
    "\n",
    "# Construct Theano expression graph\n",
    "p_1 = 1 / (1 + T.exp(-T.dot(x, w) - b))\n",
    "prediction = p_1 > 0.5\n",
    "xent = -y * T.log(p_1) - (1-y) * T.log(1-p_1)\n",
    "cost = xent.mean() + 0.01 * (w ** 2).sum()\n",
    "gw, gb = T.grad(cost, [w, b])\n",
    "\n",
    "# Compile\n",
    "learning_rate = 0.1\n",
    "train = theano.function(\n",
    "          inputs=[x, y],\n",
    "          updates=((w, w - learning_rate * gw), (b, b - learning_rate * gb)))\n",
    "predict = theano.function(inputs=[x], outputs=prediction)\n",
    "\n",
    "# Training\n",
    "for i in range(500):\n",
    "    train(D[0], D[1])\n"
   ]
  },
  {
   "cell_type": "code",
   "execution_count": 8,
   "metadata": {
    "collapsed": false
   },
   "outputs": [
    {
     "name": "stdout",
     "output_type": "stream",
     "text": [
      "[-0.15707296  0.14590665 -0.08451091 -0.12594476 -0.13424085 -0.33887753\n",
      "  0.12650858  0.20702686  0.0549835   0.29920542]\n",
      "('accuracy:', 1)\n"
     ]
    }
   ],
   "source": [
    "#savel model\n",
    "with open('theano_9_model.pickle', 'wb') as file:\n",
    "    model = [w.get_value(), b.get_value()]\n",
    "    pickle.dump(model, file)\n",
    "    print(model[0][:10])\n",
    "    print(\"accuracy:\", compute_accuracy(D[1], predict(D[0])))"
   ]
  },
  {
   "cell_type": "code",
   "execution_count": 9,
   "metadata": {
    "collapsed": false
   },
   "outputs": [
    {
     "name": "stdout",
     "output_type": "stream",
     "text": [
      "[-0.15707296  0.14590665 -0.08451091 -0.12594476 -0.13424085 -0.33887753\n",
      "  0.12650858  0.20702686  0.0549835   0.29920542]\n",
      "('accuracy:', 1)\n"
     ]
    }
   ],
   "source": [
    "#load model\n",
    "with open('theano_9_model.pickle', 'rb') as file:\n",
    "    model = pickle.load(file)\n",
    "    w.set_value(model[0])\n",
    "    b.set_value(model[1])\n",
    "    print(w.get_value()[:10])\n",
    "    print(\"accuracy:\", compute_accuracy(D[1], predict(D[0])))\n"
   ]
  }
 ],
 "metadata": {
  "kernelspec": {
   "display_name": "Python 2",
   "language": "python",
   "name": "python2"
  },
  "language_info": {
   "codemirror_mode": {
    "name": "ipython",
    "version": 2
   },
   "file_extension": ".py",
   "mimetype": "text/x-python",
   "name": "python",
   "nbconvert_exporter": "python",
   "pygments_lexer": "ipython2",
   "version": "2.7.6"
  }
 },
 "nbformat": 4,
 "nbformat_minor": 0
}
