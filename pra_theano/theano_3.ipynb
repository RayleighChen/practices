{
 "cells": [
  {
   "cell_type": "code",
   "execution_count": 11,
   "metadata": {
    "collapsed": false
   },
   "outputs": [
    {
     "name": "stdout",
     "output_type": "stream",
     "text": [
      "0.0\n",
      "1.0\n",
      "11.0\n"
     ]
    }
   ],
   "source": [
    "# shared variable\n",
    "import numpy as np\n",
    "import theano\n",
    "import theano.tensor as T\n",
    "\n",
    "state = theano.shared(np.array(0, dtype=np.float64), 'state')\n",
    "inc = T.scalar('inc', dtype=state.dtype)\n",
    "accumulator = theano.function([inc], state, updates=[(state, state + inc)])\n",
    "\n",
    "#get variable value\n",
    "print state.get_value()\n",
    "accumulator(1)\n",
    "print state.get_value()\n",
    "accumulator(10)\n",
    "print state.get_value()\n"
   ]
  },
  {
   "cell_type": "code",
   "execution_count": 13,
   "metadata": {
    "collapsed": false
   },
   "outputs": [
    {
     "name": "stdout",
     "output_type": "stream",
     "text": [
      "1.0\n"
     ]
    }
   ],
   "source": [
    "#set variable value\n",
    "state.set_value(-1)\n",
    "accumulator(2)\n",
    "print state.get_value()"
   ]
  },
  {
   "cell_type": "code",
   "execution_count": 14,
   "metadata": {
    "collapsed": false
   },
   "outputs": [
    {
     "name": "stdout",
     "output_type": "stream",
     "text": [
      "8.0\n",
      "1.0\n"
     ]
    }
   ],
   "source": [
    "#temporarily \n",
    "tmp_func = state*2 + inc\n",
    "a = T.scalar(dtype=state.dtype)\n",
    "skip_shared = theano.function([inc, a], tmp_func, givens=[(state, a)])\n",
    "print skip_shared(2,3)\n",
    "print state.get_value()\n"
   ]
  }
 ],
 "metadata": {
  "kernelspec": {
   "display_name": "Python 2",
   "language": "python",
   "name": "python2"
  },
  "language_info": {
   "codemirror_mode": {
    "name": "ipython",
    "version": 2
   },
   "file_extension": ".py",
   "mimetype": "text/x-python",
   "name": "python",
   "nbconvert_exporter": "python",
   "pygments_lexer": "ipython2",
   "version": "2.7.6"
  }
 },
 "nbformat": 4,
 "nbformat_minor": 0
}
