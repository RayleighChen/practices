{
 "cells": [
  {
   "cell_type": "code",
   "execution_count": 2,
   "metadata": {
    "collapsed": false
   },
   "outputs": [
    {
     "name": "stdout",
     "output_type": "stream",
     "text": [
      "[[ 0.5         0.73105858]\n",
      " [ 0.88079708  0.95257413]]\n"
     ]
    }
   ],
   "source": [
    "import numpy as np\n",
    "import theano.tensor as T\n",
    "import theano\n",
    "\n",
    "#activation\n",
    "x = T.dmatrix('x')\n",
    "s = 1 / (1 + T.exp(-x)) #np.exp()\n",
    "logistic = theano.function([x], s) \n",
    "print logistic([[0,1], [2,3]])"
   ]
  },
  {
   "cell_type": "code",
   "execution_count": 15,
   "metadata": {
    "collapsed": false
   },
   "outputs": [
    {
     "name": "stdout",
     "output_type": "stream",
     "text": [
      "[[ 1.  0.]\n",
      " [-1. -2.]] [[ 1.  0.]\n",
      " [ 1.  2.]] [[ 1.  0.]\n",
      " [ 1.  4.]]\n"
     ]
    }
   ],
   "source": [
    "#mulitipy outputs\n",
    "a, b = T.dmatrices('a', 'b')\n",
    "diff = a - b\n",
    "abs_diff = abs(diff)\n",
    "diff_squared = diff ** 2\n",
    "f = theano.function([a, b], [diff, abs_diff, diff_squared])\n",
    "\n",
    "x1, x2, x3 = f(np.ones((2,2)), np.arange(4).reshape((2,2)))\n",
    "print x1, x2 ,x3"
   ]
  },
  {
   "cell_type": "code",
   "execution_count": 18,
   "metadata": {
    "collapsed": false
   },
   "outputs": [
    {
     "name": "stdout",
     "output_type": "stream",
     "text": [
      "48.0\n"
     ]
    }
   ],
   "source": [
    "#name for a function\n",
    "x, y, w = T.dscalars('x','y','w')\n",
    "z = (x+y)*w\n",
    "f = theano.function([x, theano.In(y, value=1), theano.In(w, value=2, name='weights')], z)\n",
    "\n",
    "print f(23)"
   ]
  }
 ],
 "metadata": {
  "kernelspec": {
   "display_name": "Python 2",
   "language": "python",
   "name": "python2"
  },
  "language_info": {
   "codemirror_mode": {
    "name": "ipython",
    "version": 2
   },
   "file_extension": ".py",
   "mimetype": "text/x-python",
   "name": "python",
   "nbconvert_exporter": "python",
   "pygments_lexer": "ipython2",
   "version": "2.7.6"
  }
 },
 "nbformat": 4,
 "nbformat_minor": 0
}
