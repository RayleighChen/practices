{
 "cells": [
  {
   "cell_type": "code",
   "execution_count": null,
   "metadata": {
    "collapsed": true
   },
   "outputs": [],
   "source": [
    "import numpy as np\n",
    "import theano\n",
    "import theano.tensor as T\n",
    "\n",
    "class Layer(object):\n",
    "    def __init__(self, inputs, in_size, out_size, activation_function=None):\n",
    "        self.w = theano.shared(np.random.normal(0,1,(in_size, out_size)))\n",
    "        self.b = theano.shared(np.zeros(out_size,) + 0.1)\n",
    "        self.wx_plus_b = T.dot(inputs, w) + self.b\n",
    "        self.activation_function = activation_function\n",
    "        if activation_function == None:\n",
    "            self.outputs = self.wx_plus_b\n",
    "        else:\n",
    "            self.outputs = self.activation_function(self.wx_plus_b)\n",
    "    \n",
    "l1 = Layer(inputs, 10, 1, T.nnet.relu)"
   ]
  }
 ],
 "metadata": {
  "kernelspec": {
   "display_name": "Python 2",
   "language": "python",
   "name": "python2"
  },
  "language_info": {
   "codemirror_mode": {
    "name": "ipython",
    "version": 2
   },
   "file_extension": ".py",
   "mimetype": "text/x-python",
   "name": "python",
   "nbconvert_exporter": "python",
   "pygments_lexer": "ipython2",
   "version": "2.7.6"
  }
 },
 "nbformat": 4,
 "nbformat_minor": 0
}
