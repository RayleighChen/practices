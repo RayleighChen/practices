{
 "cells": [
  {
   "cell_type": "code",
   "execution_count": 4,
   "metadata": {
    "collapsed": true
   },
   "outputs": [],
   "source": [
    "import numpy as np\n",
    "import theano\n",
    "import theano.tensor as T\n",
    "\n",
    "def accuracy(y_target, y_predict):\n",
    "    correct = np.equal(y_target, y_predict)\n",
    "    accuracy_socere = np.sum(correct) / len(correct)\n",
    "    return accuracy_socere\n",
    "\n",
    "rng = np.random\n",
    "\n",
    "#Data and feature variable\n",
    "N, feats = 400, 784"
   ]
  },
  {
   "cell_type": "code",
   "execution_count": 5,
   "metadata": {
    "collapsed": false
   },
   "outputs": [],
   "source": [
    "D = (rng.randn(N, feats), rng.randint(size=N , low=0, high=2))"
   ]
  },
  {
   "cell_type": "code",
   "execution_count": 13,
   "metadata": {
    "collapsed": false
   },
   "outputs": [],
   "source": [
    "#declare theano symbolic variable\n",
    "x = T.dmatrix('x')\n",
    "y = T.dvector('y')\n",
    "\n",
    "w = theano.shared(rng.randn(feats), name = 'w')\n",
    "b = theano.shared(0.1, name = 'b')\n",
    "\n",
    "#construct expression graph\n",
    "p_1 = T.nnet.sigmoid(T.dot(x, w) + b)\n",
    "prediction = p_1 > 0.5\n",
    "\n",
    "#xent = T.nnet.binary_crossentropy(p_1, y) \n",
    "xent = -y * T.log(p_1) - (1 - y) * T.log(1 - p_1)\n",
    "#cost = xent.mean()\n",
    "cost = xent.mean() - 0.01 * (w**2).sum()\n",
    "\n",
    "gw, gb = T.grad(cost, [w, b])\n",
    "\n",
    "#compile\n",
    "learning_rate = 0.1\n",
    "train = theano.function([x, y], [prediction, xent.mean()], update=((w, w - learning_rate * gb),(b, b - learning_rate * gb)))\n",
    "predict = theano.function([x], prediction)"
   ]
  },
  {
   "cell_type": "code",
   "execution_count": null,
   "metadata": {
    "collapsed": true
   },
   "outputs": [],
   "source": [
    "#Training\n",
    "for i in range(500):\n",
    "    pred, err = train(D[0], D[1])\n",
    "    if i % 50 == 0:\n",
    "        print \"loss is \", err\n",
    "        print accuracy(D[1], predict(D[0]))\n"
   ]
  }
 ],
 "metadata": {
  "kernelspec": {
   "display_name": "Python 2",
   "language": "python",
   "name": "python2"
  },
  "language_info": {
   "codemirror_mode": {
    "name": "ipython",
    "version": 2
   },
   "file_extension": ".py",
   "mimetype": "text/x-python",
   "name": "python",
   "nbconvert_exporter": "python",
   "pygments_lexer": "ipython2",
   "version": "2.7.6"
  }
 },
 "nbformat": 4,
 "nbformat_minor": 0
}
