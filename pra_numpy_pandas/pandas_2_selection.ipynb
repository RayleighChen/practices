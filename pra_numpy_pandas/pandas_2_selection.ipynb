{
 "cells": [
  {
   "cell_type": "code",
   "execution_count": 4,
   "metadata": {
    "collapsed": false
   },
   "outputs": [
    {
     "name": "stdout",
     "output_type": "stream",
     "text": [
      "2016-10-10    2.152774\n",
      "2016-10-11   -1.346165\n",
      "2016-10-12   -0.788369\n",
      "2016-10-13   -0.614672\n",
      "2016-10-14    0.365911\n",
      "2016-10-15    0.031849\n",
      "Freq: D, Name: A, dtype: float64 2016-10-10    2.152774\n",
      "2016-10-11   -1.346165\n",
      "2016-10-12   -0.788369\n",
      "2016-10-13   -0.614672\n",
      "2016-10-14    0.365911\n",
      "2016-10-15    0.031849\n",
      "Freq: D, Name: A, dtype: float64\n"
     ]
    }
   ],
   "source": [
    "import numpy as np\n",
    "import pandas as pd\n",
    "\n",
    "dates = pd.date_range('20161010', periods=6)\n",
    "df = pd.DataFrame(np.random.randn(6,4), index=dates, columns=['A', 'B', 'C', 'D'])\n",
    "\n",
    "print df.A, df['A']\n"
   ]
  },
  {
   "cell_type": "code",
   "execution_count": 5,
   "metadata": {
    "collapsed": false
   },
   "outputs": [
    {
     "name": "stdout",
     "output_type": "stream",
     "text": [
      "A    2.152774\n",
      "B   -0.394939\n",
      "C    0.450295\n",
      "D    1.111433\n",
      "Name: 2016-10-10 00:00:00, dtype: float64\n"
     ]
    }
   ],
   "source": [
    "\n",
    "print df.loc['20161010']"
   ]
  },
  {
   "cell_type": "code",
   "execution_count": 7,
   "metadata": {
    "collapsed": false
   },
   "outputs": [
    {
     "name": "stdout",
     "output_type": "stream",
     "text": [
      "                   A         B\n",
      "2016-10-10  2.152774 -0.394939\n",
      "2016-10-11 -1.346165 -0.207410\n",
      "2016-10-12 -0.788369 -1.396438\n",
      "2016-10-13 -0.614672 -0.568813\n",
      "2016-10-14  0.365911  1.558348\n",
      "2016-10-15  0.031849 -1.859374\n"
     ]
    }
   ],
   "source": [
    "print(df.loc[:,['A','B']])\n"
   ]
  },
  {
   "cell_type": "code",
   "execution_count": 11,
   "metadata": {
    "collapsed": false
   },
   "outputs": [
    {
     "name": "stdout",
     "output_type": "stream",
     "text": [
      "                   A         C\n",
      "2016-10-11 -1.346165 -1.240596\n",
      "2016-10-12 -0.788369 -1.144332\n",
      "2016-10-14  0.365911  0.877368\n"
     ]
    }
   ],
   "source": [
    "# select by position: iloc\n",
    "print(df.iloc[[1,2,4],[0,2]])"
   ]
  },
  {
   "cell_type": "code",
   "execution_count": 12,
   "metadata": {
    "collapsed": false
   },
   "outputs": [
    {
     "name": "stdout",
     "output_type": "stream",
     "text": [
      "                   A         C\n",
      "2016-10-10  2.152774  0.450295\n",
      "2016-10-11 -1.346165 -1.240596\n",
      "2016-10-12 -0.788369 -1.144332\n"
     ]
    }
   ],
   "source": [
    "# mixed selection: ix\n",
    "print(df.ix[:3, ['A', 'C']])\n"
   ]
  }
 ],
 "metadata": {
  "kernelspec": {
   "display_name": "Python 2",
   "language": "python",
   "name": "python2"
  },
  "language_info": {
   "codemirror_mode": {
    "name": "ipython",
    "version": 2
   },
   "file_extension": ".py",
   "mimetype": "text/x-python",
   "name": "python",
   "nbconvert_exporter": "python",
   "pygments_lexer": "ipython2",
   "version": "2.7.6"
  }
 },
 "nbformat": 4,
 "nbformat_minor": 0
}
