{
 "cells": [
  {
   "cell_type": "code",
   "execution_count": 12,
   "metadata": {
    "collapsed": false
   },
   "outputs": [
    {
     "data": {
      "text/plain": [
       "<matplotlib.legend.Legend at 0xaf9597d0>"
      ]
     },
     "execution_count": 12,
     "metadata": {},
     "output_type": "execute_result"
    },
    {
     "data": {
      "image/png": "[encoded data removed]",
      "text/plain": [
       "<matplotlib.figure.Figure at 0xafa018d0>"
      ]
     },
     "metadata": {},
     "output_type": "display_data"
    }
   ],
   "source": [
    "import matplotlib.pyplot as plt\n",
    "import numpy as np\n",
    "%matplotlib inline\n",
    "\n",
    "x = np.linspace(-1, 2, 5)\n",
    "y1 = 2*x + 1\n",
    "y2 = x**2\n",
    "\n",
    "plt.xlim((-1, 2))\n",
    "plt.ylim((-3, 3))\n",
    "plt.xlabel('I am x')\n",
    "plt.ylabel('I am y')\n",
    "\n",
    "plt.xticks(np.linspace(-2, 2, 5))\n",
    "\n",
    "plt.yticks([-2,-1,0,1,2], ['$sum_{i=1}^N\\sin(x)$','test2','test3','test4','test5'])\n",
    "\n",
    "#gca  get current axis\n",
    "ax = plt.gca()\n",
    "ax.spines['right'].set_color('none')\n",
    "ax.spines['top'].set_color('none')\n",
    "ax.xaxis.set_ticks_position('bottom')\n",
    "ax.yaxis.set_ticks_position('left')\n",
    "plt.grid()\n",
    "\n",
    "\n",
    "l1, = plt.plot(x, y1, label='up')\n",
    "l2, = plt.plot(x, y2, color = 'red', linewidth = 1, linestyle='--', label='down')\n",
    "plt.legend(loc='best')\n"
   ]
  }
 ],
 "metadata": {
  "kernelspec": {
   "display_name": "Python 2",
   "language": "python",
   "name": "python2"
  },
  "language_info": {
   "codemirror_mode": {
    "name": "ipython",
    "version": 2
   },
   "file_extension": ".py",
   "mimetype": "text/x-python",
   "name": "python",
   "nbconvert_exporter": "python",
   "pygments_lexer": "ipython2",
   "version": "2.7.6"
  }
 },
 "nbformat": 4,
 "nbformat_minor": 0
}
